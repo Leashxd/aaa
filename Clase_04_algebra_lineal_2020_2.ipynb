{
 "cells": [
  {
   "cell_type": "markdown",
   "metadata": {
    "slideshow": {
     "slide_type": "slide"
    }
   },
   "source": [
    "<img src=\"files/FIC.jpg\" width=\"600\" height=\"460\" />\n",
    "\n",
    "Profesor: Pablo González \n",
    "\n",
    "\n",
    "# ÁLGEBRA LINEAL: Matrices y operaciones"
   ]
  },
  {
   "cell_type": "markdown",
   "metadata": {
    "slideshow": {
     "slide_type": "slide"
    }
   },
   "source": [
    "# PYTHON COMO CALCULADORA: Operaciones básicas"
   ]
  },
  {
   "cell_type": "code",
   "execution_count": 2,
   "metadata": {
    "slideshow": {
     "slide_type": "fragment"
    }
   },
   "outputs": [
    {
     "data": {
      "text/plain": [
       "5"
      ]
     },
     "execution_count": 2,
     "metadata": {},
     "output_type": "execute_result"
    }
   ],
   "source": [
    "#Adición\n",
    "2+3"
   ]
  },
  {
   "cell_type": "code",
   "execution_count": 3,
   "metadata": {
    "slideshow": {
     "slide_type": "fragment"
    }
   },
   "outputs": [
    {
     "data": {
      "text/plain": [
       "-4"
      ]
     },
     "execution_count": 3,
     "metadata": {},
     "output_type": "execute_result"
    }
   ],
   "source": [
    "#Sustracción(o resta)\n",
    "3-7"
   ]
  },
  {
   "cell_type": "code",
   "execution_count": 4,
   "metadata": {
    "slideshow": {
     "slide_type": "slide"
    }
   },
   "outputs": [
    {
     "data": {
      "text/plain": [
       "60"
      ]
     },
     "execution_count": 4,
     "metadata": {},
     "output_type": "execute_result"
    }
   ],
   "source": [
    "#Multiplicación\n",
    "3*20"
   ]
  },
  {
   "cell_type": "code",
   "execution_count": 5,
   "metadata": {
    "slideshow": {
     "slide_type": "-"
    }
   },
   "outputs": [
    {
     "data": {
      "text/plain": [
       "0.3333333333333333"
      ]
     },
     "execution_count": 5,
     "metadata": {},
     "output_type": "execute_result"
    }
   ],
   "source": [
    "#División Flotante\n",
    "3/9"
   ]
  },
  {
   "cell_type": "code",
   "execution_count": 6,
   "metadata": {},
   "outputs": [
    {
     "data": {
      "text/plain": [
       "2"
      ]
     },
     "execution_count": 6,
     "metadata": {},
     "output_type": "execute_result"
    }
   ],
   "source": [
    "#División Entera\n",
    "5//2"
   ]
  },
  {
   "cell_type": "code",
   "execution_count": 7,
   "metadata": {
    "slideshow": {
     "slide_type": "slide"
    }
   },
   "outputs": [
    {
     "data": {
      "text/plain": [
       "1"
      ]
     },
     "execution_count": 7,
     "metadata": {},
     "output_type": "execute_result"
    }
   ],
   "source": [
    "#Módulo\n",
    "7%3"
   ]
  },
  {
   "cell_type": "code",
   "execution_count": 8,
   "metadata": {},
   "outputs": [
    {
     "data": {
      "text/plain": [
       "512"
      ]
     },
     "execution_count": 8,
     "metadata": {},
     "output_type": "execute_result"
    }
   ],
   "source": [
    "#Potencia\n",
    "2**9"
   ]
  },
  {
   "cell_type": "markdown",
   "metadata": {
    "slideshow": {
     "slide_type": "slide"
    }
   },
   "source": [
    "### Ejercicio: Calcule el valor de la siguiente expresión usando las operaciones recientemente descritas \n",
    "$$\\dfrac{1+\\dfrac{2}{3}}{1-\\dfrac{3}{5}}$$"
   ]
  },
  {
   "cell_type": "code",
   "execution_count": 171,
   "metadata": {
    "slideshow": {
     "slide_type": "fragment"
    }
   },
   "outputs": [],
   "source": [
    "# Ingrese su código acá"
   ]
  },
  {
   "cell_type": "markdown",
   "metadata": {
    "slideshow": {
     "slide_type": "slide"
    }
   },
   "source": [
    "# Matrices con Sympy\n",
    "\n",
    "Para trabajar con matrices usando Python, tenemos dos opciones. Una de ellas es una Biblioteca de matemática simbólica llamada Sympy. Su propósito es convertirse en un completo sistema de álgebra computacional que pueda competir directamente con alternativas comerciales \"Mathematica(Wolframalpha)\" y \"Maple\" manteniendo, a la vez, el código tan simple como sea posible para hacerlo extensible de manera fácil e integral."
   ]
  },
  {
   "cell_type": "markdown",
   "metadata": {
    "slideshow": {
     "slide_type": "slide"
    }
   },
   "source": [
    "## ¿Cómo se ocupa esta Biblioteca para definir matrices?\n",
    "\n",
    "Ejemplo: Usemos Sympy para definir la matriz $$A=\\begin{bmatrix}-1 & 1 \\\\ 6 & -5\\end{bmatrix}$$"
   ]
  },
  {
   "cell_type": "code",
   "execution_count": 3,
   "metadata": {
    "slideshow": {
     "slide_type": "slide"
    }
   },
   "outputs": [],
   "source": [
    "#Primer Paso: Importar la biblioteca Sympy\n",
    "import sympy as sp"
   ]
  },
  {
   "cell_type": "code",
   "execution_count": 4,
   "metadata": {
    "slideshow": {
     "slide_type": "fragment"
    }
   },
   "outputs": [],
   "source": [
    "# Segundo Paso: Usar el siguiente comando para que \n",
    "# la respuesta esté dada con notación matemática\n",
    "sp.interactive.printing.init_printing(use_latex='mathjax') "
   ]
  },
  {
   "cell_type": "code",
   "execution_count": 12,
   "metadata": {
    "slideshow": {
     "slide_type": "fragment"
    }
   },
   "outputs": [
    {
     "data": {
      "text/latex": [
       "$\\displaystyle \\left[\\begin{matrix}-1 & 1\\\\6 & -5\\end{matrix}\\right]$"
      ],
      "text/plain": [
       "⎡-1  1 ⎤\n",
       "⎢      ⎥\n",
       "⎣6   -5⎦"
      ]
     },
     "execution_count": 12,
     "metadata": {},
     "output_type": "execute_result"
    }
   ],
   "source": [
    "#Tercer Paso: Definir la matriz mediante el comando Matrix\n",
    "A=sp.Matrix([[-1,1],[6,-5]])\n",
    "A"
   ]
  },
  {
   "cell_type": "code",
   "execution_count": 14,
   "metadata": {
    "slideshow": {
     "slide_type": "slide"
    }
   },
   "outputs": [
    {
     "data": {
      "text/latex": [
       "$\\displaystyle \\left( 2, \\  2\\right)$"
      ],
      "text/plain": [
       "(2, 2)"
      ]
     },
     "execution_count": 14,
     "metadata": {},
     "output_type": "execute_result"
    }
   ],
   "source": [
    "#Para obtener el orden de la matriz se puede usar el comando shape\n",
    "A.shape"
   ]
  },
  {
   "cell_type": "code",
   "execution_count": 172,
   "metadata": {
    "slideshow": {
     "slide_type": "fragment"
    }
   },
   "outputs": [
    {
     "data": {
      "text/latex": [
       "$\\displaystyle \\left[\\begin{matrix}-1 & 1\\end{matrix}\\right]$"
      ],
      "text/plain": [
       "[-1  1]"
      ]
     },
     "execution_count": 172,
     "metadata": {},
     "output_type": "execute_result"
    }
   ],
   "source": [
    "#Para obtener una fila específica podemos usar el comando row\n",
    "A.row(0)"
   ]
  },
  {
   "cell_type": "code",
   "execution_count": 17,
   "metadata": {
    "slideshow": {
     "slide_type": "fragment"
    }
   },
   "outputs": [
    {
     "data": {
      "text/latex": [
       "$\\displaystyle \\left[\\begin{matrix}1\\\\-5\\end{matrix}\\right]$"
      ],
      "text/plain": [
       "⎡1 ⎤\n",
       "⎢  ⎥\n",
       "⎣-5⎦"
      ]
     },
     "execution_count": 17,
     "metadata": {},
     "output_type": "execute_result"
    }
   ],
   "source": [
    "#Para obtener una columna específica podemos usar el comando row\n",
    "A.col(1)"
   ]
  },
  {
   "cell_type": "code",
   "execution_count": 45,
   "metadata": {
    "slideshow": {
     "slide_type": "fragment"
    }
   },
   "outputs": [
    {
     "data": {
      "text/latex": [
       "$\\displaystyle -6$"
      ],
      "text/plain": [
       "-6"
      ]
     },
     "execution_count": 45,
     "metadata": {},
     "output_type": "execute_result"
    }
   ],
   "source": [
    "# Para calcular la traza de una matriz podemos usar el comando trace\n",
    "sp.trace(A)"
   ]
  },
  {
   "cell_type": "markdown",
   "metadata": {
    "slideshow": {
     "slide_type": "slide"
    }
   },
   "source": [
    "# Operaciones Matriciales"
   ]
  },
  {
   "cell_type": "code",
   "execution_count": 23,
   "metadata": {
    "slideshow": {
     "slide_type": "fragment"
    }
   },
   "outputs": [
    {
     "data": {
      "text/latex": [
       "$\\displaystyle \\left( \\left[\\begin{matrix}-1 & 4\\\\2 & 3\\end{matrix}\\right], \\  \\left[\\begin{matrix}3 & -1\\\\20 & 7\\end{matrix}\\right]\\right)$"
      ],
      "text/plain": [
       "⎛⎡-1  4⎤  ⎡3   -1⎤⎞\n",
       "⎜⎢     ⎥, ⎢      ⎥⎟\n",
       "⎝⎣2   3⎦  ⎣20  7 ⎦⎠"
      ]
     },
     "execution_count": 23,
     "metadata": {},
     "output_type": "execute_result"
    }
   ],
   "source": [
    "M = sp.Matrix([[-1, 4], [2, 3]])\n",
    "N = sp.Matrix([[3, -1], [20, 7]])\n",
    "M,N"
   ]
  },
  {
   "cell_type": "code",
   "execution_count": 24,
   "metadata": {
    "slideshow": {
     "slide_type": "fragment"
    }
   },
   "outputs": [
    {
     "data": {
      "text/latex": [
       "$\\displaystyle \\left[\\begin{matrix}2 & 3\\\\22 & 10\\end{matrix}\\right]$"
      ],
      "text/plain": [
       "⎡2   3 ⎤\n",
       "⎢      ⎥\n",
       "⎣22  10⎦"
      ]
     },
     "execution_count": 24,
     "metadata": {},
     "output_type": "execute_result"
    }
   ],
   "source": [
    "# Suma matricial\n",
    "M + N"
   ]
  },
  {
   "cell_type": "code",
   "execution_count": 25,
   "metadata": {
    "slideshow": {
     "slide_type": "fragment"
    }
   },
   "outputs": [
    {
     "data": {
      "text/latex": [
       "$\\displaystyle \\left[\\begin{matrix}77 & 29\\\\66 & 19\\end{matrix}\\right]$"
      ],
      "text/plain": [
       "⎡77  29⎤\n",
       "⎢      ⎥\n",
       "⎣66  19⎦"
      ]
     },
     "execution_count": 25,
     "metadata": {},
     "output_type": "execute_result"
    }
   ],
   "source": [
    "# Multipliación matricial\n",
    "M*N"
   ]
  },
  {
   "cell_type": "code",
   "execution_count": 26,
   "metadata": {
    "slideshow": {
     "slide_type": "slide"
    }
   },
   "outputs": [
    {
     "data": {
      "text/latex": [
       "$\\displaystyle \\left[\\begin{matrix}-3 & 12\\\\6 & 9\\end{matrix}\\right]$"
      ],
      "text/plain": [
       "⎡-3  12⎤\n",
       "⎢      ⎥\n",
       "⎣6   9 ⎦"
      ]
     },
     "execution_count": 26,
     "metadata": {},
     "output_type": "execute_result"
    }
   ],
   "source": [
    "# Ponderación\n",
    "3*M"
   ]
  },
  {
   "cell_type": "code",
   "execution_count": 27,
   "metadata": {
    "slideshow": {
     "slide_type": "fragment"
    }
   },
   "outputs": [
    {
     "data": {
      "text/latex": [
       "$\\displaystyle \\left[\\begin{matrix}9 & 8\\\\4 & 17\\end{matrix}\\right]$"
      ],
      "text/plain": [
       "⎡9  8 ⎤\n",
       "⎢     ⎥\n",
       "⎣4  17⎦"
      ]
     },
     "execution_count": 27,
     "metadata": {},
     "output_type": "execute_result"
    }
   ],
   "source": [
    "# Potencia de la matriz\n",
    "M**2"
   ]
  },
  {
   "cell_type": "code",
   "execution_count": 64,
   "metadata": {
    "slideshow": {
     "slide_type": "fragment"
    }
   },
   "outputs": [
    {
     "data": {
      "text/latex": [
       "$\\displaystyle \\left[\\begin{matrix}-1 & 2\\\\4 & 3\\end{matrix}\\right]$"
      ],
      "text/plain": [
       "⎡-1  2⎤\n",
       "⎢     ⎥\n",
       "⎣4   3⎦"
      ]
     },
     "execution_count": 64,
     "metadata": {},
     "output_type": "execute_result"
    }
   ],
   "source": [
    "# Matriz transpuesta\n",
    "M.T"
   ]
  },
  {
   "cell_type": "markdown",
   "metadata": {
    "slideshow": {
     "slide_type": "slide"
    }
   },
   "source": [
    "# Ejemplo\n",
    "\n",
    "Resuelva la siguiente ecuación matricial\n",
    "$$\n",
    "\\left[\\begin{array}{cccc}3 X^{t}-2 & {\\left[\\begin{array}{ccc}2 & -1 & 2 \\\\ -1 & 0 & 1\\end{array}\\right]}\\end{array}\\right]^{t}=2 X-3\\left[\\begin{array}{cc}1 & -1 \\\\ -1 & 1 \\\\ 3 & 2\\end{array}\\right]\n",
    "$$\n",
    "Apoye sus cálculos usando Python"
   ]
  },
  {
   "cell_type": "code",
   "execution_count": null,
   "metadata": {
    "slideshow": {
     "slide_type": "fragment"
    }
   },
   "outputs": [],
   "source": [
    "#Ingrese su código acá"
   ]
  },
  {
   "cell_type": "markdown",
   "metadata": {
    "slideshow": {
     "slide_type": "slide"
    }
   },
   "source": [
    "# Matrices con Numpy\n",
    "\n",
    "Uno de los módulos más importantes de Python es Numpy. El origen de Numpy se debe principalmente al diseñador de software Jim Hugunin quien diseñó el módulo Numeric para dotar a Python de capacidades de cálculo similares a las de otros softwares como MATLAB. \n",
    "\n",
    "Numpy Es el encargado de añadir toda la capacidad matemática y vectorial a Python haciendo posible operar con cualquier dato numérico o un arreglo. Incorpora operaciones tan básicas como la suma o la multiplicación u otras mucho más complejas como la transformada de Fourier o el álgebra lineal. "
   ]
  },
  {
   "cell_type": "markdown",
   "metadata": {
    "slideshow": {
     "slide_type": "slide"
    }
   },
   "source": [
    "Para definir una matriz con Numpy, el procedimiento es similar al usado con Sympy, el comando también es Matrix. Por ejemplo, definamos la matriz $$R=\\begin{bmatrix}1 & -1 & 7 \\\\ 0 & -1 & 4 \\\\ 6 & 0 & 9\\end{bmatrix}$$\n",
    "\n"
   ]
  },
  {
   "cell_type": "code",
   "execution_count": 65,
   "metadata": {
    "slideshow": {
     "slide_type": "slide"
    }
   },
   "outputs": [
    {
     "name": "stdout",
     "output_type": "stream",
     "text": [
      "type(R):  <class 'numpy.matrix'>\n",
      "R.size:  9\n",
      "R.shape:  (3, 3)\n"
     ]
    },
    {
     "data": {
      "text/plain": [
       "matrix([[ 1, -1,  7],\n",
       "        [ 0, -1,  4],\n",
       "        [ 6,  0,  9]])"
      ]
     },
     "execution_count": 65,
     "metadata": {},
     "output_type": "execute_result"
    }
   ],
   "source": [
    "# Importamos la biblioteca numpy\n",
    "import numpy as np\n",
    "\n",
    "# Definimos la matriz pedida\n",
    "R=np.matrix('1 -1 7;0 -1 4; 6 0 9')\n",
    "\n",
    "\n",
    "print('type(R): ', type(R))\n",
    "print('R.size: ', R.size)\n",
    "print('R.shape: ', R.shape)\n",
    "R"
   ]
  },
  {
   "cell_type": "markdown",
   "metadata": {
    "slideshow": {
     "slide_type": "slide"
    }
   },
   "source": [
    "# Operaciones matriciales (numpy):"
   ]
  },
  {
   "cell_type": "code",
   "execution_count": 69,
   "metadata": {
    "slideshow": {
     "slide_type": "fragment"
    }
   },
   "outputs": [
    {
     "data": {
      "text/plain": [
       "matrix([[ 1, -2, 14],\n",
       "        [ 1,  0,  5],\n",
       "        [ 8,  2, 11]])"
      ]
     },
     "execution_count": 69,
     "metadata": {},
     "output_type": "execute_result"
    }
   ],
   "source": [
    "S=np.matrix(\"0 -1 7; 1 1 1; 2 2 2\")\n",
    "\n",
    "# Suma Matricial\n",
    "R+S"
   ]
  },
  {
   "cell_type": "code",
   "execution_count": 71,
   "metadata": {
    "slideshow": {
     "slide_type": "fragment"
    }
   },
   "outputs": [
    {
     "data": {
      "text/plain": [
       "matrix([[13, 12, 20],\n",
       "        [ 7,  7,  7],\n",
       "        [18, 12, 60]])"
      ]
     },
     "execution_count": 71,
     "metadata": {},
     "output_type": "execute_result"
    }
   ],
   "source": [
    "# Producto Matricial\n",
    "R*S"
   ]
  },
  {
   "cell_type": "code",
   "execution_count": 70,
   "metadata": {
    "slideshow": {
     "slide_type": "slide"
    }
   },
   "outputs": [
    {
     "data": {
      "text/plain": [
       "matrix([[-1,  1, -7],\n",
       "        [ 0,  1, -4],\n",
       "        [-6,  0, -9]])"
      ]
     },
     "execution_count": 70,
     "metadata": {},
     "output_type": "execute_result"
    }
   ],
   "source": [
    "# Producto por escalar\n",
    "(-1)*R"
   ]
  },
  {
   "cell_type": "code",
   "execution_count": 72,
   "metadata": {
    "slideshow": {
     "slide_type": "fragment"
    }
   },
   "outputs": [
    {
     "data": {
      "text/plain": [
       "matrix([[ 43,   0,  66],\n",
       "        [ 24,   1,  32],\n",
       "        [ 60,  -6, 123]])"
      ]
     },
     "execution_count": 72,
     "metadata": {},
     "output_type": "execute_result"
    }
   ],
   "source": [
    "# Potencia de una matriz\n",
    "\n",
    "R**2"
   ]
  },
  {
   "cell_type": "code",
   "execution_count": 73,
   "metadata": {
    "slideshow": {
     "slide_type": "fragment"
    }
   },
   "outputs": [
    {
     "data": {
      "text/plain": [
       "matrix([[ 1,  0,  6],\n",
       "        [-1, -1,  0],\n",
       "        [ 7,  4,  9]])"
      ]
     },
     "execution_count": 73,
     "metadata": {},
     "output_type": "execute_result"
    }
   ],
   "source": [
    "# Traspuesta de una matriz\n",
    "R.T"
   ]
  },
  {
   "cell_type": "markdown",
   "metadata": {},
   "source": [
    "# Ejercicio\n",
    "\n",
    "Suponga que la matriz $$A=\\left[\\begin{array}{lllll}0 & 1 & 1 & 0 & 1 \\\\ 1 & 0 & 0 & 1 & 0 \\\\ 0 & 1 & 0 & 0 & 0 \\\\ 1 & 0 & 1 & 0 & 1 \\\\ 0 & 1 & 1 & 1 & 0\\end{array}\\right]$$\n",
    "es la matriz de adyacencia de cierto grafo. Use Python para determinar el número de caminos de largo 3 que conectan los vértices 1 y 3 del mismo.\n"
   ]
  },
  {
   "cell_type": "code",
   "execution_count": 187,
   "metadata": {},
   "outputs": [],
   "source": [
    "#Ingrese su código acá"
   ]
  },
  {
   "cell_type": "markdown",
   "metadata": {
    "slideshow": {
     "slide_type": "slide"
    }
   },
   "source": [
    "# Excel y Python\n",
    "\n",
    "Con Python también podemos transformar archivos Excel en matrices y viceversa. Para esto, debemos usar la biblioteca pandas."
   ]
  },
  {
   "cell_type": "code",
   "execution_count": 146,
   "metadata": {
    "slideshow": {
     "slide_type": "fragment"
    }
   },
   "outputs": [
    {
     "data": {
      "text/html": [
       "<div>\n",
       "<style scoped>\n",
       "    .dataframe tbody tr th:only-of-type {\n",
       "        vertical-align: middle;\n",
       "    }\n",
       "\n",
       "    .dataframe tbody tr th {\n",
       "        vertical-align: top;\n",
       "    }\n",
       "\n",
       "    .dataframe thead th {\n",
       "        text-align: right;\n",
       "    }\n",
       "</style>\n",
       "<table border=\"1\" class=\"dataframe\">\n",
       "  <thead>\n",
       "    <tr style=\"text-align: right;\">\n",
       "      <th></th>\n",
       "      <th>0</th>\n",
       "      <th>1</th>\n",
       "    </tr>\n",
       "  </thead>\n",
       "  <tbody>\n",
       "    <tr>\n",
       "      <td>0</td>\n",
       "      <td>1</td>\n",
       "      <td>2</td>\n",
       "    </tr>\n",
       "    <tr>\n",
       "      <td>1</td>\n",
       "      <td>3</td>\n",
       "      <td>4</td>\n",
       "    </tr>\n",
       "  </tbody>\n",
       "</table>\n",
       "</div>"
      ],
      "text/plain": [
       "   0  1\n",
       "0  1  2\n",
       "1  3  4"
      ]
     },
     "execution_count": 146,
     "metadata": {},
     "output_type": "execute_result"
    }
   ],
   "source": [
    "# Transformemos un archivo excel a matriz, para esto importamos la biblioteca\n",
    "import pandas as pd\n",
    "\n",
    "# Luego, usamos el comando read_excel\n",
    "d=pd.read_excel(\"A.xlsx\",header=None)\n",
    "d"
   ]
  },
  {
   "cell_type": "code",
   "execution_count": 147,
   "metadata": {
    "slideshow": {
     "slide_type": "slide"
    }
   },
   "outputs": [
    {
     "data": {
      "text/plain": [
       "array([[1, 2],\n",
       "       [3, 4]])"
      ]
     },
     "execution_count": 147,
     "metadata": {},
     "output_type": "execute_result"
    }
   ],
   "source": [
    "# Finalmente, redefinimos la matriz mediante el comando asarra\n",
    "\n",
    "d1=np.asarray(d1)\n",
    "d1"
   ]
  },
  {
   "cell_type": "markdown",
   "metadata": {
    "slideshow": {
     "slide_type": "slide"
    }
   },
   "source": [
    "También podemos transformar un archivo excel a una tabla mediante el comando ExcelFile y parse. Veamos un ejemplo"
   ]
  },
  {
   "cell_type": "code",
   "execution_count": 148,
   "metadata": {
    "slideshow": {
     "slide_type": "fragment"
    }
   },
   "outputs": [
    {
     "data": {
      "text/html": [
       "<div>\n",
       "<style scoped>\n",
       "    .dataframe tbody tr th:only-of-type {\n",
       "        vertical-align: middle;\n",
       "    }\n",
       "\n",
       "    .dataframe tbody tr th {\n",
       "        vertical-align: top;\n",
       "    }\n",
       "\n",
       "    .dataframe thead th {\n",
       "        text-align: right;\n",
       "    }\n",
       "</style>\n",
       "<table border=\"1\" class=\"dataframe\">\n",
       "  <thead>\n",
       "    <tr style=\"text-align: right;\">\n",
       "      <th></th>\n",
       "      <th>Columna 1</th>\n",
       "      <th>Columna 2</th>\n",
       "    </tr>\n",
       "  </thead>\n",
       "  <tbody>\n",
       "    <tr>\n",
       "      <td>0</td>\n",
       "      <td>1</td>\n",
       "      <td>2</td>\n",
       "    </tr>\n",
       "    <tr>\n",
       "      <td>1</td>\n",
       "      <td>3</td>\n",
       "      <td>4</td>\n",
       "    </tr>\n",
       "  </tbody>\n",
       "</table>\n",
       "</div>"
      ],
      "text/plain": [
       "   Columna 1  Columna 2\n",
       "0          1          2\n",
       "1          3          4"
      ]
     },
     "execution_count": 148,
     "metadata": {},
     "output_type": "execute_result"
    }
   ],
   "source": [
    "data = pd.ExcelFile('B.xlsx')\n",
    "B = data.parse(\"Hoja1\")\n",
    "B"
   ]
  },
  {
   "cell_type": "markdown",
   "metadata": {
    "slideshow": {
     "slide_type": "slide"
    }
   },
   "source": [
    "Ahora, para transformar una matriz a un archivo de Excel, debemos usar la biblioteca xlswriter. Veamos el siguiente ejemplo"
   ]
  },
  {
   "cell_type": "code",
   "execution_count": 170,
   "metadata": {
    "slideshow": {
     "slide_type": "fragment"
    }
   },
   "outputs": [],
   "source": [
    "import xlsxwriter\n",
    "\n",
    "workbook = xlsxwriter.Workbook('arrays.xlsx')\n",
    "worksheet = workbook.add_worksheet()\n",
    "\n",
    "array = [['1', '2', '3'],\n",
    "         ['4', '5', '6'],\n",
    "         ['7', '8', '9']]\n",
    "\n",
    "row = 0\n",
    "\n",
    "for col, data in enumerate(array):\n",
    "    worksheet.write_column(row, col, data)\n",
    "\n",
    "workbook.close()"
   ]
  }
 ],
 "metadata": {
  "celltoolbar": "Slideshow",
  "kernelspec": {
   "display_name": "Python 3",
   "language": "python",
   "name": "python3"
  },
  "language_info": {
   "codemirror_mode": {
    "name": "ipython",
    "version": 3
   },
   "file_extension": ".py",
   "mimetype": "text/x-python",
   "name": "python",
   "nbconvert_exporter": "python",
   "pygments_lexer": "ipython3",
   "version": "3.8.3"
  }
 },
 "nbformat": 4,
 "nbformat_minor": 2
}
